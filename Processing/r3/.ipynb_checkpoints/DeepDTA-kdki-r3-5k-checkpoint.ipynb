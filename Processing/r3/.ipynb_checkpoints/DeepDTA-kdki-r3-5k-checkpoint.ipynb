{
 "cells": [
  {
   "cell_type": "code",
   "execution_count": 1,
   "metadata": {},
   "outputs": [],
   "source": [
    "import os\n",
    "os.chdir('../../')\n",
    "\n",
    "import DeepPurpose.DTI as models\n",
    "from DeepPurpose.utils import *\n",
    "from DeepPurpose.dataset import *\n",
    "import Processing.dataset_filter as processors\n",
    "\n",
    "if not os.path.exists('./result/DeepDTA'):\n",
    "    os.makedirs('./result/DeepDTA')"
   ]
  },
  {
   "cell_type": "code",
   "execution_count": 2,
   "metadata": {
    "pycharm": {
     "name": "#%%\n"
    }
   },
   "outputs": [
    {
     "name": "stdout",
     "output_type": "stream",
     "text": [
      "Drug Target Interaction Prediction Mode...\n",
      "in total: 5000 drug-target pairs\n",
      "encoding drug...\n",
      "unique drugs: 4864\n",
      "encoding protein...\n",
      "unique target sequence: 1037\n",
      "splitting dataset...\n",
      "Done.\n"
     ]
    }
   ],
   "source": [
    "df = pd.read_csv('./data/r3/title_r3_5k.csv', sep = ',', error_bad_lines=False)\n",
    "X_drug, X_target, y = df['Drug'].values, df['Target'].values, df['Label'].values\n",
    "\n",
    "drug_encoding = 'CNN'\n",
    "target_encoding = 'CNN'\n",
    "train, val, test = data_process(X_drug, X_target, y,\n",
    "                                drug_encoding, target_encoding,\n",
    "                                split_method='random',frac=[0.7,0.1,0.2])\n",
    "\n",
    "# use the parameters setting provided in the paper: https://arxiv.org/abs/1801.10193\n",
    "config = generate_config(drug_encoding = drug_encoding,\n",
    "                         target_encoding = target_encoding,\n",
    "                         cls_hidden_dims = [1024,1024,512],\n",
    "                         train_epoch = 100,\n",
    "                         LR = 0.001,\n",
    "                         batch_size = 256,\n",
    "                         cnn_drug_filters = [32,64,96],\n",
    "                         cnn_target_filters = [32,64,96],\n",
    "                         cnn_drug_kernels = [4,6,8],\n",
    "                         cnn_target_kernels = [4,8,12]\n",
    "                         )\n"
   ]
  },
  {
   "cell_type": "code",
   "execution_count": null,
   "metadata": {
    "pycharm": {
     "name": "#%%\n"
    },
    "scrolled": false
   },
   "outputs": [
    {
     "name": "stdout",
     "output_type": "stream",
     "text": [
      "Let's use 1 GPU!\n",
      "--- Data Preparation ---\n",
      "--- Go for Training ---\n",
      "Training at Epoch 1 iteration 0 with loss 52.5965. Total time 0.00027 hours\n",
      "Validation at Epoch 1 with loss:4.91457, MSE: 4.82246 , Pearson Correlation: 0.15548 with p-value: 4.84E-04 , Concordance Index: 0.54780\n",
      "Training at Epoch 2 iteration 0 with loss 5.15021. Total time 0.00361 hours\n",
      "Validation at Epoch 2 with loss:2.28551, MSE: 2.27085 , Pearson Correlation: 0.18477 with p-value: 3.22E-05 , Concordance Index: 0.55727\n",
      "Training at Epoch 3 iteration 0 with loss 2.39108. Total time 0.00638 hours\n",
      "Validation at Epoch 3 with loss:2.31621, MSE: 2.26867 , Pearson Correlation: 0.21875 with p-value: 7.84E-07 , Concordance Index: 0.56929\n",
      "Training at Epoch 4 iteration 0 with loss 2.19459. Total time 0.01055 hours\n",
      "Validation at Epoch 4 with loss:2.19635, MSE: 2.35046 , Pearson Correlation: 0.25495 with p-value: 7.36E-09 , Concordance Index: 0.58228\n",
      "Training at Epoch 5 iteration 0 with loss 2.30166. Total time 0.01444 hours\n",
      "Validation at Epoch 5 with loss:2.26440, MSE: 2.24188 , Pearson Correlation: 0.28864 with p-value: 4.74E-11 , Concordance Index: 0.59428\n",
      "Training at Epoch 6 iteration 0 with loss 2.16103. Total time 0.01861 hours\n",
      "Validation at Epoch 6 with loss:2.20356, MSE: 2.28324 , Pearson Correlation: 0.32909 with p-value: 4.30E-14 , Concordance Index: 0.60860\n",
      "Training at Epoch 7 iteration 0 with loss 2.15050. Total time 0.0225 hours\n",
      "Validation at Epoch 7 with loss:2.19850, MSE: 2.20378 , Pearson Correlation: 0.35875 with p-value: 1.24E-16 , Concordance Index: 0.61838\n",
      "Training at Epoch 8 iteration 0 with loss 2.04744. Total time 0.02666 hours\n"
     ]
    }
   ],
   "source": [
    "model = models.model_initialize(**config)\n",
    "model.train(train, val, test)"
   ]
  },
  {
   "cell_type": "code",
   "execution_count": null,
   "metadata": {
    "pycharm": {
     "name": "#%%\n"
    }
   },
   "outputs": [],
   "source": [
    "model.save_model('./result/DeepDTA/r3/model_r3_5k_100epochs')"
   ]
  },
  {
   "cell_type": "code",
   "execution_count": null,
   "metadata": {},
   "outputs": [],
   "source": []
  }
 ],
 "metadata": {
  "kernelspec": {
   "display_name": "Python 3",
   "language": "python",
   "name": "python3"
  },
  "language_info": {
   "codemirror_mode": {
    "name": "ipython",
    "version": 3
   },
   "file_extension": ".py",
   "mimetype": "text/x-python",
   "name": "python",
   "nbconvert_exporter": "python",
   "pygments_lexer": "ipython3",
   "version": "3.7.7"
  }
 },
 "nbformat": 4,
 "nbformat_minor": 1
}
