{
 "cells": [
  {
   "cell_type": "code",
   "execution_count": 1,
   "metadata": {},
   "outputs": [],
   "source": [
    "import os\n",
    "os.chdir('../../')\n",
    "\n",
    "import DeepPurpose.DTI as models\n",
    "from DeepPurpose.utils import *\n",
    "from DeepPurpose.dataset import *\n",
    "import Processing.dataset_filter as processors\n",
    "\n",
    "if not os.path.exists('./result/DeepDTA'):\n",
    "    os.makedirs('./result/DeepDTA')"
   ]
  },
  {
   "cell_type": "code",
   "execution_count": 2,
   "metadata": {
    "pycharm": {
     "name": "#%%\n"
    }
   },
   "outputs": [
    {
     "name": "stdout",
     "output_type": "stream",
     "text": [
      "Drug Target Interaction Prediction Mode...\n",
      "in total: 2500 drug-target pairs\n",
      "encoding drug...\n",
      "unique drugs: 2465\n",
      "encoding protein...\n",
      "unique target sequence: 708\n",
      "splitting dataset...\n",
      "Done.\n"
     ]
    }
   ],
   "source": [
    "df = pd.read_csv('./data/r3/title_r3_2.5k.csv', sep = ',', error_bad_lines=False)\n",
    "X_drug, X_target, y = df['Drug'].values, df['Target'].values, df['Label'].values\n",
    "\n",
    "drug_encoding = 'CNN'\n",
    "target_encoding = 'CNN'\n",
    "train, val, test = data_process(X_drug, X_target, y,\n",
    "                                drug_encoding, target_encoding,\n",
    "                                split_method='random',frac=[0.7,0.1,0.2])\n",
    "\n",
    "# use the parameters setting provided in the paper: https://arxiv.org/abs/1801.10193\n",
    "config = generate_config(drug_encoding = drug_encoding,\n",
    "                         target_encoding = target_encoding,\n",
    "                         cls_hidden_dims = [1024,1024,512],\n",
    "                         train_epoch = 100,\n",
    "                         LR = 0.001,\n",
    "                         batch_size = 256,\n",
    "                         cnn_drug_filters = [32,64,96],\n",
    "                         cnn_target_filters = [32,64,96],\n",
    "                         cnn_drug_kernels = [4,6,8],\n",
    "                         cnn_target_kernels = [4,8,12]\n",
    "                         )\n"
   ]
  },
  {
   "cell_type": "code",
   "execution_count": null,
   "metadata": {
    "pycharm": {
     "name": "#%%\n"
    },
    "scrolled": false
   },
   "outputs": [
    {
     "name": "stdout",
     "output_type": "stream",
     "text": [
      "Let's use 1 GPU!\n",
      "--- Data Preparation ---\n",
      "--- Go for Training ---\n",
      "Training at Epoch 1 iteration 0 with loss 52.0253. Total time 0.0 hours\n",
      "Validation at Epoch 1 with loss:4.95035, MSE: 4.95035 , Pearson Correlation: 0.10677 with p-value: 9.21E-02 , Concordance Index: 0.54005\n",
      "Training at Epoch 2 iteration 0 with loss 5.33763. Total time 0.00138 hours\n",
      "Validation at Epoch 2 with loss:5.88070, MSE: 5.88070 , Pearson Correlation: 0.11805 with p-value: 6.24E-02 , Concordance Index: 0.53645\n",
      "Training at Epoch 3 iteration 0 with loss 5.82235. Total time 0.00277 hours\n",
      "Validation at Epoch 3 with loss:2.22186, MSE: 2.22186 , Pearson Correlation: 0.12181 with p-value: 5.44E-02 , Concordance Index: 0.53818\n",
      "Training at Epoch 4 iteration 0 with loss 2.27808. Total time 0.00416 hours\n",
      "Validation at Epoch 4 with loss:2.45021, MSE: 2.45021 , Pearson Correlation: 0.13460 with p-value: 3.34E-02 , Concordance Index: 0.54044\n",
      "Training at Epoch 5 iteration 0 with loss 2.80553. Total time 0.00583 hours\n",
      "Validation at Epoch 5 with loss:2.17446, MSE: 2.17446 , Pearson Correlation: 0.15168 with p-value: 1.64E-02 , Concordance Index: 0.54529\n",
      "Training at Epoch 6 iteration 0 with loss 2.34510. Total time 0.0075 hours\n",
      "Validation at Epoch 6 with loss:2.16716, MSE: 2.16716 , Pearson Correlation: 0.16793 with p-value: 7.79E-03 , Concordance Index: 0.55079\n",
      "Training at Epoch 7 iteration 0 with loss 2.21097. Total time 0.00888 hours\n",
      "Validation at Epoch 7 with loss:2.16651, MSE: 2.16651 , Pearson Correlation: 0.18382 with p-value: 3.54E-03 , Concordance Index: 0.55447\n",
      "Training at Epoch 8 iteration 0 with loss 2.19171. Total time 0.01055 hours\n",
      "Validation at Epoch 8 with loss:2.17209, MSE: 2.17209 , Pearson Correlation: 0.19762 with p-value: 1.69E-03 , Concordance Index: 0.55972\n",
      "Training at Epoch 9 iteration 0 with loss 2.11071. Total time 0.01222 hours\n",
      "Validation at Epoch 9 with loss:2.18510, MSE: 2.18510 , Pearson Correlation: 0.21216 with p-value: 7.35E-04 , Concordance Index: 0.56456\n",
      "Training at Epoch 10 iteration 0 with loss 2.01822. Total time 0.01444 hours\n",
      "Validation at Epoch 10 with loss:2.16085, MSE: 2.16085 , Pearson Correlation: 0.22551 with p-value: 3.25E-04 , Concordance Index: 0.56973\n",
      "Training at Epoch 11 iteration 0 with loss 2.46364. Total time 0.01666 hours\n",
      "Validation at Epoch 11 with loss:2.16706, MSE: 2.16706 , Pearson Correlation: 0.23844 with p-value: 1.41E-04 , Concordance Index: 0.57333\n",
      "Training at Epoch 12 iteration 0 with loss 2.37090. Total time 0.01888 hours\n",
      "Validation at Epoch 12 with loss:2.15732, MSE: 2.15732 , Pearson Correlation: 0.25081 with p-value: 6.07E-05 , Concordance Index: 0.57753\n",
      "Training at Epoch 13 iteration 0 with loss 2.02954. Total time 0.02083 hours\n",
      "Validation at Epoch 13 with loss:2.15166, MSE: 2.15166 , Pearson Correlation: 0.26394 with p-value: 2.36E-05 , Concordance Index: 0.58321\n",
      "Training at Epoch 14 iteration 0 with loss 1.91572. Total time 0.02305 hours\n",
      "Validation at Epoch 14 with loss:2.14924, MSE: 2.14924 , Pearson Correlation: 0.27845 with p-value: 7.85E-06 , Concordance Index: 0.58826\n",
      "Training at Epoch 15 iteration 0 with loss 2.13243. Total time 0.025 hours\n",
      "Validation at Epoch 15 with loss:2.14525, MSE: 2.14525 , Pearson Correlation: 0.29178 with p-value: 2.69E-06 , Concordance Index: 0.59237\n",
      "Training at Epoch 16 iteration 0 with loss 2.30998. Total time 0.02722 hours\n",
      "Validation at Epoch 16 with loss:2.14126, MSE: 2.14126 , Pearson Correlation: 0.29740 with p-value: 1.69E-06 , Concordance Index: 0.59324\n",
      "Training at Epoch 17 iteration 0 with loss 2.28509. Total time 0.02916 hours\n"
     ]
    }
   ],
   "source": [
    "model = models.model_initialize(**config)\n",
    "model.train(train, val, test)"
   ]
  },
  {
   "cell_type": "code",
   "execution_count": null,
   "metadata": {
    "pycharm": {
     "name": "#%%\n"
    }
   },
   "outputs": [],
   "source": [
    "model.save_model('./result/DeepDTA/r3/model_r3_2.5k_100epochs')"
   ]
  },
  {
   "cell_type": "code",
   "execution_count": null,
   "metadata": {},
   "outputs": [],
   "source": []
  }
 ],
 "metadata": {
  "kernelspec": {
   "display_name": "Python 3",
   "language": "python",
   "name": "python3"
  },
  "language_info": {
   "codemirror_mode": {
    "name": "ipython",
    "version": 3
   },
   "file_extension": ".py",
   "mimetype": "text/x-python",
   "name": "python",
   "nbconvert_exporter": "python",
   "pygments_lexer": "ipython3",
   "version": "3.7.7"
  }
 },
 "nbformat": 4,
 "nbformat_minor": 1
}
