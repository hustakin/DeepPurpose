{
 "cells": [
  {
   "cell_type": "code",
   "execution_count": 1,
   "metadata": {},
   "outputs": [],
   "source": [
    "import os\n",
    "os.chdir('../../')\n",
    "\n",
    "import DeepPurpose.DTI as models\n",
    "from DeepPurpose.utils import *\n",
    "from DeepPurpose.dataset import *\n",
    "import Processing.dataset_filter as processors\n",
    "\n",
    "if not os.path.exists('./result/DeepDTA'):\n",
    "    os.makedirs('./result/DeepDTA')"
   ]
  },
  {
   "cell_type": "code",
   "execution_count": 2,
   "metadata": {
    "pycharm": {
     "name": "#%%\n"
    }
   },
   "outputs": [
    {
     "name": "stdout",
     "output_type": "stream",
     "text": [
      "Drug Target Interaction Prediction Mode...\n",
      "in total: 10000 drug-target pairs\n",
      "encoding drug...\n",
      "unique drugs: 9541\n",
      "encoding protein...\n",
      "unique target sequence: 1417\n",
      "splitting dataset...\n",
      "Done.\n"
     ]
    }
   ],
   "source": [
    "df = pd.read_csv('./data/r3/title_r3_10k.csv', sep = ',', error_bad_lines=False)\n",
    "X_drug, X_target, y = df['Drug'].values, df['Target'].values, df['Label'].values\n",
    "\n",
    "drug_encoding = 'CNN'\n",
    "target_encoding = 'CNN'\n",
    "train, val, test = data_process(X_drug, X_target, y,\n",
    "                                drug_encoding, target_encoding,\n",
    "                                split_method='random',frac=[0.7,0.1,0.2])\n",
    "\n",
    "# use the parameters setting provided in the paper: https://arxiv.org/abs/1801.10193\n",
    "config = generate_config(drug_encoding = drug_encoding,\n",
    "                         target_encoding = target_encoding,\n",
    "                         cls_hidden_dims = [1024,1024,512],\n",
    "                         train_epoch = 100,\n",
    "                         LR = 0.001,\n",
    "                         batch_size = 256,\n",
    "                         cnn_drug_filters = [32,64,96],\n",
    "                         cnn_target_filters = [32,64,96],\n",
    "                         cnn_drug_kernels = [4,6,8],\n",
    "                         cnn_target_kernels = [4,8,12]\n",
    "                         )\n"
   ]
  },
  {
   "cell_type": "code",
   "execution_count": null,
   "metadata": {
    "pycharm": {
     "name": "#%%\n"
    },
    "scrolled": false
   },
   "outputs": [
    {
     "name": "stdout",
     "output_type": "stream",
     "text": [
      "Let's use 1 GPU!\n",
      "--- Data Preparation ---\n",
      "--- Go for Training ---\n",
      "Training at Epoch 1 iteration 0 with loss 49.5004. Total time 0.00027 hours\n",
      "Validation at Epoch 1 with loss:2.32437, MSE: 2.27598 , Pearson Correlation: 0.15089 with p-value: 1.64E-06 , Concordance Index: 0.53598\n",
      "Training at Epoch 2 iteration 0 with loss 2.29508. Total time 0.00805 hours\n",
      "Validation at Epoch 2 with loss:2.48758, MSE: 2.33081 , Pearson Correlation: 0.23270 with p-value: 9.19E-14 , Concordance Index: 0.56299\n",
      "Training at Epoch 3 iteration 0 with loss 2.23194. Total time 0.01611 hours\n",
      "Validation at Epoch 3 with loss:2.31663, MSE: 2.23862 , Pearson Correlation: 0.31534 with p-value: 1.59E-24 , Concordance Index: 0.59144\n",
      "Training at Epoch 4 iteration 0 with loss 1.94746. Total time 0.02388 hours\n"
     ]
    }
   ],
   "source": [
    "model = models.model_initialize(**config)\n",
    "model.train(train, val, test)"
   ]
  },
  {
   "cell_type": "code",
   "execution_count": null,
   "metadata": {
    "pycharm": {
     "name": "#%%\n"
    }
   },
   "outputs": [],
   "source": [
    "model.save_model('./result/DeepDTA/r3/model_r3_10k_100epochs')"
   ]
  },
  {
   "cell_type": "code",
   "execution_count": null,
   "metadata": {},
   "outputs": [],
   "source": []
  }
 ],
 "metadata": {
  "kernelspec": {
   "display_name": "Python 3",
   "language": "python",
   "name": "python3"
  },
  "language_info": {
   "codemirror_mode": {
    "name": "ipython",
    "version": 3
   },
   "file_extension": ".py",
   "mimetype": "text/x-python",
   "name": "python",
   "nbconvert_exporter": "python",
   "pygments_lexer": "ipython3",
   "version": "3.7.7"
  }
 },
 "nbformat": 4,
 "nbformat_minor": 1
}
