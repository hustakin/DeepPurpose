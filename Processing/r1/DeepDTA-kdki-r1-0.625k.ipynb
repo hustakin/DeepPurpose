{
 "cells": [
  {
   "cell_type": "code",
   "execution_count": 1,
   "metadata": {},
   "outputs": [],
   "source": [
    "import os\n",
    "os.chdir('../../')\n",
    "\n",
    "import DeepPurpose.DTI as models\n",
    "from DeepPurpose.utils import *\n",
    "from DeepPurpose.dataset import *\n",
    "import Processing.dataset_filter as processors\n",
    "\n",
    "if not os.path.exists('./result/DeepDTA'):\n",
    "    os.makedirs('./result/DeepDTA')"
   ]
  },
  {
   "cell_type": "code",
   "execution_count": 2,
   "metadata": {
    "pycharm": {
     "name": "#%%\n"
    }
   },
   "outputs": [
    {
     "name": "stdout",
     "output_type": "stream",
     "text": [
      "Drug Target Interaction Prediction Mode...\n",
      "in total: 625 drug-target pairs\n",
      "encoding drug...\n",
      "unique drugs: 623\n",
      "encoding protein...\n",
      "unique target sequence: 318\n",
      "splitting dataset...\n",
      "Done.\n"
     ]
    }
   ],
   "source": [
    "df = pd.read_csv('./data/r1/title_r1_0.625k.csv', sep = ',', error_bad_lines=False)\n",
    "X_drug, X_target, y = df['Drug'].values, df['Target'].values, df['Label'].values\n",
    "\n",
    "drug_encoding = 'CNN'\n",
    "target_encoding = 'CNN'\n",
    "train, val, test = data_process(X_drug, X_target, y,\n",
    "                                drug_encoding, target_encoding,\n",
    "                                split_method='random',frac=[0.7,0.1,0.2])\n",
    "\n",
    "# use the parameters setting provided in the paper: https://arxiv.org/abs/1801.10193\n",
    "config = generate_config(drug_encoding = drug_encoding,\n",
    "                         target_encoding = target_encoding,\n",
    "                         cls_hidden_dims = [1024,1024,512],\n",
    "                         train_epoch = 100,\n",
    "                         LR = 0.001,\n",
    "                         batch_size = 256,\n",
    "                         cnn_drug_filters = [32,64,96],\n",
    "                         cnn_target_filters = [32,64,96],\n",
    "                         cnn_drug_kernels = [4,6,8],\n",
    "                         cnn_target_kernels = [4,8,12]\n",
    "                         )\n"
   ]
  },
  {
   "cell_type": "code",
   "execution_count": null,
   "metadata": {
    "pycharm": {
     "name": "#%%\n"
    }
   },
   "outputs": [
    {
     "name": "stdout",
     "output_type": "stream",
     "text": [
      "Let's use 1 GPU!\n",
      "--- Data Preparation ---\n",
      "--- Go for Training ---\n",
      "Training at Epoch 1 iteration 0 with loss 49.1585. Total time 0.0 hours\n",
      "Validation at Epoch 1 with loss:40.9570, MSE: 40.9570 , Pearson Correlation: 0.20238 with p-value: 1.15E-01 , Concordance Index: 0.54155\n",
      "Training at Epoch 2 iteration 0 with loss 43.0108. Total time 0.00027 hours\n",
      "Validation at Epoch 2 with loss:13.7312, MSE: 13.7312 , Pearson Correlation: 0.15575 with p-value: 2.27E-01 , Concordance Index: 0.53255\n",
      "Training at Epoch 3 iteration 0 with loss 14.3343. Total time 0.00055 hours\n",
      "Validation at Epoch 3 with loss:25.6344, MSE: 25.6344 , Pearson Correlation: 0.13681 with p-value: 2.89E-01 , Concordance Index: 0.52885\n",
      "Training at Epoch 4 iteration 0 with loss 23.3500. Total time 0.00083 hours\n",
      "Validation at Epoch 4 with loss:3.29026, MSE: 3.29026 , Pearson Correlation: 0.16683 with p-value: 1.95E-01 , Concordance Index: 0.53414\n",
      "Training at Epoch 5 iteration 0 with loss 3.16489. Total time 0.00111 hours\n",
      "Validation at Epoch 5 with loss:10.5590, MSE: 10.5590 , Pearson Correlation: 0.19420 with p-value: 1.30E-01 , Concordance Index: 0.54208\n",
      "Training at Epoch 6 iteration 0 with loss 11.1711. Total time 0.00138 hours\n"
     ]
    }
   ],
   "source": [
    "model = models.model_initialize(**config)\n",
    "model.train(train, val, test)"
   ]
  },
  {
   "cell_type": "code",
   "execution_count": null,
   "metadata": {
    "pycharm": {
     "name": "#%%\n"
    }
   },
   "outputs": [],
   "source": [
    "model.save_model('./result/DeepDTA/r1/model_r1_0.625k_100epochs')"
   ]
  },
  {
   "cell_type": "code",
   "execution_count": null,
   "metadata": {},
   "outputs": [],
   "source": []
  }
 ],
 "metadata": {
  "kernelspec": {
   "display_name": "Python 3",
   "language": "python",
   "name": "python3"
  },
  "language_info": {
   "codemirror_mode": {
    "name": "ipython",
    "version": 3
   },
   "file_extension": ".py",
   "mimetype": "text/x-python",
   "name": "python",
   "nbconvert_exporter": "python",
   "pygments_lexer": "ipython3",
   "version": "3.7.7"
  }
 },
 "nbformat": 4,
 "nbformat_minor": 1
}
