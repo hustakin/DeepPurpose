{
 "cells": [
  {
   "cell_type": "code",
   "execution_count": 1,
   "metadata": {},
   "outputs": [],
   "source": [
    "import os\n",
    "os.chdir('../../')\n",
    "\n",
    "import DeepPurpose.DTI as models\n",
    "from DeepPurpose.utils import *\n",
    "from DeepPurpose.dataset import *\n",
    "import Processing.dataset_filter as processors\n",
    "\n",
    "if not os.path.exists('./result/DeepDTA'):\n",
    "    os.makedirs('./result/DeepDTA')"
   ]
  },
  {
   "cell_type": "code",
   "execution_count": 2,
   "metadata": {
    "pycharm": {
     "name": "#%%\n"
    }
   },
   "outputs": [
    {
     "name": "stdout",
     "output_type": "stream",
     "text": [
      "Drug Target Interaction Prediction Mode...\n",
      "in total: 10000 drug-target pairs\n",
      "encoding drug...\n",
      "unique drugs: 9571\n",
      "encoding protein...\n",
      "unique target sequence: 1409\n",
      "splitting dataset...\n",
      "Done.\n"
     ]
    }
   ],
   "source": [
    "df = pd.read_csv('./data/r2/title_r2_10k.csv', sep = ',', error_bad_lines=False)\n",
    "X_drug, X_target, y = df['Drug'].values, df['Target'].values, df['Label'].values\n",
    "\n",
    "drug_encoding = 'CNN'\n",
    "target_encoding = 'CNN'\n",
    "train, val, test = data_process(X_drug, X_target, y,\n",
    "                                drug_encoding, target_encoding,\n",
    "                                split_method='random',frac=[0.7,0.1,0.2])\n",
    "\n",
    "# use the parameters setting provided in the paper: https://arxiv.org/abs/1801.10193\n",
    "config = generate_config(drug_encoding = drug_encoding,\n",
    "                         target_encoding = target_encoding,\n",
    "                         cls_hidden_dims = [1024,1024,512],\n",
    "                         train_epoch = 100,\n",
    "                         LR = 0.001,\n",
    "                         batch_size = 256,\n",
    "                         cnn_drug_filters = [32,64,96],\n",
    "                         cnn_target_filters = [32,64,96],\n",
    "                         cnn_drug_kernels = [4,6,8],\n",
    "                         cnn_target_kernels = [4,8,12]\n",
    "                         )\n"
   ]
  },
  {
   "cell_type": "code",
   "execution_count": null,
   "metadata": {
    "pycharm": {
     "name": "#%%\n"
    }
   },
   "outputs": [
    {
     "name": "stdout",
     "output_type": "stream",
     "text": [
      "Let's use 1 GPU!\n",
      "--- Data Preparation ---\n",
      "--- Go for Training ---\n",
      "Training at Epoch 1 iteration 0 with loss 51.1151. Total time 0.0 hours\n",
      "Validation at Epoch 1 with loss:2.40573, MSE: 2.35143 , Pearson Correlation: 0.14487 with p-value: 4.23E-06 , Concordance Index: 0.53459\n",
      "Training at Epoch 2 iteration 0 with loss 2.36753. Total time 0.00416 hours\n",
      "Validation at Epoch 2 with loss:2.24633, MSE: 2.35771 , Pearson Correlation: 0.21703 with p-value: 3.99E-12 , Concordance Index: 0.55986\n",
      "Training at Epoch 3 iteration 0 with loss 2.33053. Total time 0.00833 hours\n",
      "Validation at Epoch 3 with loss:2.55210, MSE: 2.38773 , Pearson Correlation: 0.28084 with p-value: 1.39E-19 , Concordance Index: 0.58182\n",
      "Training at Epoch 4 iteration 0 with loss 2.07193. Total time 0.0125 hours\n",
      "Validation at Epoch 4 with loss:2.06361, MSE: 2.31856 , Pearson Correlation: 0.32061 with p-value: 2.43E-25 , Concordance Index: 0.59547\n",
      "Training at Epoch 5 iteration 0 with loss 2.43680. Total time 0.01638 hours\n",
      "Validation at Epoch 5 with loss:2.17335, MSE: 2.33183 , Pearson Correlation: 0.34588 with p-value: 1.77E-29 , Concordance Index: 0.60304\n",
      "Training at Epoch 6 iteration 0 with loss 2.29214. Total time 0.02083 hours\n",
      "Validation at Epoch 6 with loss:2.35728, MSE: 2.36716 , Pearson Correlation: 0.35488 with p-value: 4.75E-31 , Concordance Index: 0.60564\n",
      "Training at Epoch 7 iteration 0 with loss 2.36845. Total time 0.02611 hours\n"
     ]
    }
   ],
   "source": [
    "model = models.model_initialize(**config)\n",
    "model.train(train, val, test)"
   ]
  },
  {
   "cell_type": "code",
   "execution_count": null,
   "metadata": {
    "pycharm": {
     "name": "#%%\n"
    }
   },
   "outputs": [],
   "source": [
    "model.save_model('./result/DeepDTA/r2/model_r2_10k_100epochs')"
   ]
  },
  {
   "cell_type": "code",
   "execution_count": null,
   "metadata": {},
   "outputs": [],
   "source": []
  }
 ],
 "metadata": {
  "kernelspec": {
   "display_name": "Python 3",
   "language": "python",
   "name": "python3"
  },
  "language_info": {
   "codemirror_mode": {
    "name": "ipython",
    "version": 3
   },
   "file_extension": ".py",
   "mimetype": "text/x-python",
   "name": "python",
   "nbconvert_exporter": "python",
   "pygments_lexer": "ipython3",
   "version": "3.7.7"
  }
 },
 "nbformat": 4,
 "nbformat_minor": 1
}
