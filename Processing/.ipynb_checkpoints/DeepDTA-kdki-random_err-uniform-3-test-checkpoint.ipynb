{
 "cells": [
  {
   "cell_type": "code",
   "execution_count": 1,
   "metadata": {},
   "outputs": [],
   "source": [
    "import os\n",
    "os.chdir('../')\n",
    "\n",
    "import DeepPurpose.DTI as models\n",
    "from DeepPurpose.utils import *\n",
    "from DeepPurpose.dataset import *\n",
    "import Processing.dataset_filter as processors\n",
    "import Processing.testing as testing\n",
    "\n",
    "if not os.path.exists('./result/DeepDTA'):\n",
    "    os.makedirs('./result/DeepDTA')"
   ]
  },
  {
   "cell_type": "code",
   "execution_count": 2,
   "metadata": {
    "scrolled": false
   },
   "outputs": [],
   "source": [
    "df = pd.read_csv('./data/r1/title_r1_test45021.csv', sep = ',', error_bad_lines=False)\n",
    "X_drug, X_target, y = df['Drug'].values, df['Target'].values, df['Label'].values"
   ]
  },
  {
   "cell_type": "code",
   "execution_count": 3,
   "metadata": {
    "scrolled": false
   },
   "outputs": [
    {
     "name": "stdout",
     "output_type": "stream",
     "text": [
      "Loading pre-trained model from path: ./result/DeepDTA/r1/model_r1_320k_random_err_uniform_3_100epochs\n",
      "Drug Target Interaction Prediction Mode...\n",
      "in total: 45021 drug-target pairs\n",
      "encoding drug...\n",
      "unique drugs: 39401\n",
      "encoding protein...\n",
      "unique target sequence: 2469\n",
      "splitting dataset...\n",
      "do not do train/test split on the data for already splitted data\n",
      "predicting...\n",
      "[r1 random_err 320k] Testing MSE: 1.1740575955331192 , Pearson Correlation: 0.6737196826580092 with p-value: 0.00E+00 , Concordance Index: 0.7344190091870222\n",
      "--- Finish Testing r1 random_err 320k ---\n"
     ]
    }
   ],
   "source": [
    "testing.batch_predict('./result/DeepDTA/r1/model_r1_320k_random_err_uniform_3_100epochs', 'r1 random_err 320k', X_drug, X_target, y)"
   ]
  },
  {
   "cell_type": "code",
   "execution_count": 4,
   "metadata": {},
   "outputs": [],
   "source": [
    "df = pd.read_csv('./data/r2/title_r2_test45021.csv', sep = ',', error_bad_lines=False)\n",
    "X_drug, X_target, y = df['Drug'].values, df['Target'].values, df['Label'].values"
   ]
  },
  {
   "cell_type": "code",
   "execution_count": 5,
   "metadata": {
    "scrolled": false
   },
   "outputs": [
    {
     "name": "stdout",
     "output_type": "stream",
     "text": [
      "Loading pre-trained model from path: ./result/DeepDTA/r2/model_r2_320k_random_err_uniform_3_100epochs\n",
      "Drug Target Interaction Prediction Mode...\n",
      "in total: 45021 drug-target pairs\n",
      "encoding drug...\n",
      "unique drugs: 39272\n",
      "encoding protein...\n",
      "unique target sequence: 2413\n",
      "splitting dataset...\n",
      "do not do train/test split on the data for already splitted data\n",
      "predicting...\n",
      "[r2 random_err 320k] Testing MSE: 1.1470508940234068 , Pearson Correlation: 0.6819314446931245 with p-value: 0.00E+00 , Concordance Index: 0.7378893617538225\n",
      "--- Finish Testing r2 random_err 320k ---\n"
     ]
    }
   ],
   "source": [
    "testing.batch_predict('./result/DeepDTA/r2/model_r2_320k_random_err_uniform_3_100epochs', 'r2 random_err 320k', X_drug, X_target, y)"
   ]
  },
  {
   "cell_type": "code",
   "execution_count": 6,
   "metadata": {},
   "outputs": [],
   "source": [
    "df = pd.read_csv('./data/r3/title_r3_test45021.csv', sep = ',', error_bad_lines=False)\n",
    "X_drug, X_target, y = df['Drug'].values, df['Target'].values, df['Label'].values"
   ]
  },
  {
   "cell_type": "code",
   "execution_count": 7,
   "metadata": {
    "scrolled": false
   },
   "outputs": [
    {
     "name": "stdout",
     "output_type": "stream",
     "text": [
      "Loading pre-trained model from path: ./result/DeepDTA/r3/model_r3_320k_random_err_uniform_3_100epochs\n",
      "Drug Target Interaction Prediction Mode...\n",
      "in total: 45021 drug-target pairs\n",
      "encoding drug...\n",
      "unique drugs: 39404\n",
      "encoding protein...\n",
      "unique target sequence: 2422\n",
      "splitting dataset...\n",
      "do not do train/test split on the data for already splitted data\n",
      "predicting...\n",
      "[r3 random_err 320k] Testing MSE: 1.1542752021633522 , Pearson Correlation: 0.6778027538331756 with p-value: 0.00E+00 , Concordance Index: 0.7366263167829287\n",
      "--- Finish Testing r3 random_err 320k ---\n"
     ]
    }
   ],
   "source": [
    "testing.batch_predict('./result/DeepDTA/r3/model_r3_320k_random_err_uniform_3_100epochs', 'r3 random_err 320k', X_drug, X_target, y)"
   ]
  },
  {
   "cell_type": "code",
   "execution_count": null,
   "metadata": {},
   "outputs": [],
   "source": []
  },
  {
   "cell_type": "code",
   "execution_count": null,
   "metadata": {},
   "outputs": [],
   "source": []
  },
  {
   "cell_type": "code",
   "execution_count": null,
   "metadata": {},
   "outputs": [],
   "source": []
  }
 ],
 "metadata": {
  "kernelspec": {
   "display_name": "Python 3",
   "language": "python",
   "name": "python3"
  },
  "language_info": {
   "codemirror_mode": {
    "name": "ipython",
    "version": 3
   },
   "file_extension": ".py",
   "mimetype": "text/x-python",
   "name": "python",
   "nbconvert_exporter": "python",
   "pygments_lexer": "ipython3",
   "version": "3.7.7"
  }
 },
 "nbformat": 4,
 "nbformat_minor": 1
}
